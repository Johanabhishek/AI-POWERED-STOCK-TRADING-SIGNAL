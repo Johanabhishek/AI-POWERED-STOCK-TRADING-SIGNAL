{
 "cells": [
  {
   "cell_type": "code",
   "execution_count": 2,
   "id": "5d269586-2c43-4104-ad18-9e9f3dbc2f25",
   "metadata": {},
   "outputs": [
    {
     "name": "stdout",
     "output_type": "stream",
     "text": [
      "\n",
      " AAPL - Microsoft Corporation\n",
      "   Current AAPL Price: $393.08\n",
      "   Market Cap: $2,922,148,790,272\n",
      "   Sector: Technology\n",
      "   Industry: Software - Infrastructure\n",
      "\n",
      " TSLA - Microsoft Corporation\n",
      "   Current TSLA Price: $393.08\n",
      "   Market Cap: $2,922,148,790,272\n",
      "   Sector: Technology\n",
      "   Industry: Software - Infrastructure\n",
      "\n",
      " GOOGL - Microsoft Corporation\n",
      "   Current GOOGL Price: $393.08\n",
      "   Market Cap: $2,922,148,790,272\n",
      "   Sector: Technology\n",
      "   Industry: Software - Infrastructure\n",
      "\n",
      " MSFT - Microsoft Corporation\n",
      "   Current MSFT Price: $393.08\n",
      "   Market Cap: $2,922,148,790,272\n",
      "   Sector: Technology\n",
      "   Industry: Software - Infrastructure\n"
     ]
    }
   ],
   "source": [
    "import yfinance as yf  \n",
    "import pandas as pd\n",
    "import json\n",
    "\n",
    "# List of stock tickers\n",
    "tickers = [\"AAPL\", \"TSLA\", \"GOOGL\", \"MSFT\"]  \n",
    "\n",
    "# Dictionary to store stock info\n",
    "stock_info = {}\n",
    "current_prices = {}\n",
    "stock_data = {}\n",
    "# Loop through each stock and fetch details\n",
    "for ticker in tickers:\n",
    "    stock = yf.Ticker(ticker)\n",
    "    info = stock.info  # Get company info\n",
    "    current_price = stock.history(period=\"1d\")[\"Close\"].iloc[-1]  # Get last closing price\n",
    "    current_prices[ticker] = round(current_price, 2)  # Round to 2 decimal places\n",
    "\n",
    "# Print results\n",
    "for ticker, price in current_prices.items():\n",
    "    \n",
    "    # Store relevant details\n",
    "    stock_info[ticker] = {\n",
    "        \"Company Name\": info.get(\"longName\", \"N/A\"),\n",
    "        \"Market Cap ($)\": info.get(\"marketCap\", \"N/A\"),\n",
    "        \"Sector\": info.get(\"sector\", \"N/A\"),\n",
    "        \"Industry\": info.get(\"industry\", \"N/A\")\n",
    "    }\n",
    "\n",
    "# Print stock details\n",
    "for ticker, details in stock_info.items():\n",
    "    print(f\"\\n {ticker} - {details['Company Name']}\")\n",
    "    print(f\"   Current {ticker} Price: ${price}\")\n",
    "    print(f\"   Market Cap: ${details['Market Cap ($)']:,}\")\n",
    "    print(f\"   Sector: {details['Sector']}\")\n",
    "    print(f\"   Industry: {details['Industry']}\")\n"
   ]
  },
  {
   "cell_type": "code",
   "execution_count": 3,
   "id": "5aa41706-199a-42eb-b567-8a3d6fa029ff",
   "metadata": {},
   "outputs": [
    {
     "name": "stdout",
     "output_type": "stream",
     "text": [
      "Stock prices saved to 'stock_prices.csv'\n",
      "Stock prices saved to 'stock_prices.json'\n"
     ]
    }
   ],
   "source": [
    "for ticker in tickers:\n",
    "    stock = yf.Ticker(ticker)\n",
    "    data = stock.history(period=\"1mo\")  # Fetch last 1-month data\n",
    "    stock_data[ticker] = data  # Store DataFrame in dictionary\n",
    "\n",
    "# Convert to Pandas DataFrame\n",
    "combined_data = pd.concat(stock_data, axis=1)\n",
    "\n",
    "# Save as CSV\n",
    "combined_data.to_csv(\"stock_prices.csv\")\n",
    "print(\"Stock prices saved to 'stock_prices.csv'\")\n",
    "\n",
    "# Save as JSON\n",
    "combined_data.to_json(\"stock_prices.json\", orient=\"columns\")\n",
    "print(\"Stock prices saved to 'stock_prices.json'\")\n"
   ]
  },
  {
   "cell_type": "code",
   "execution_count": 4,
   "id": "0a613e20-c2e5-4efe-8154-b25ac5d20f3b",
   "metadata": {},
   "outputs": [
    {
     "name": "stdout",
     "output_type": "stream",
     "text": [
      "Stock info saved to 'stock_info.csv'\n",
      "Stock info saved to 'stock_info.json'\n"
     ]
    }
   ],
   "source": [
    "# Dictionary to store stock info\n",
    "stock_info = {}\n",
    "\n",
    "# Fetch stock details\n",
    "for ticker in tickers:\n",
    "    stock = yf.Ticker(ticker)\n",
    "    info = stock.info  \n",
    "    stock_info[ticker] = {\n",
    "        \"Company Name\": info.get(\"longName\", \"N/A\"),\n",
    "        \"Market Cap ($)\": info.get(\"marketCap\", \"N/A\"),\n",
    "        \"Sector\": info.get(\"sector\", \"N/A\"),\n",
    "        \"Industry\": info.get(\"industry\", \"N/A\")\n",
    "    }\n",
    "\n",
    "# Convert to DataFrame\n",
    "info_df = pd.DataFrame.from_dict(stock_info, orient=\"index\")\n",
    "\n",
    "# Save as CSV\n",
    "info_df.to_csv(\"stock_info.csv\")\n",
    "print(\"Stock info saved to 'stock_info.csv'\")\n",
    "\n",
    "# Save as JSON\n",
    "with open(\"stock_info.json\", \"w\") as json_file:\n",
    "    json.dump(stock_info, json_file, indent=4)\n",
    "print(\"Stock info saved to 'stock_info.json'\")\n"
   ]
  },
  {
   "cell_type": "code",
   "execution_count": 5,
   "id": "ab06f2f9-db67-4de1-a2c3-39c6f95c183e",
   "metadata": {},
   "outputs": [
    {
     "data": {
      "text/html": [
       "<div>\n",
       "<style scoped>\n",
       "    .dataframe tbody tr th:only-of-type {\n",
       "        vertical-align: middle;\n",
       "    }\n",
       "\n",
       "    .dataframe tbody tr th {\n",
       "        vertical-align: top;\n",
       "    }\n",
       "\n",
       "    .dataframe thead th {\n",
       "        text-align: right;\n",
       "    }\n",
       "</style>\n",
       "<table border=\"1\" class=\"dataframe\">\n",
       "  <thead>\n",
       "    <tr style=\"text-align: right;\">\n",
       "      <th></th>\n",
       "      <th>Ticker</th>\n",
       "      <th>Title</th>\n",
       "      <th>Publisher</th>\n",
       "      <th>Link</th>\n",
       "      <th>Time</th>\n",
       "    </tr>\n",
       "  </thead>\n",
       "  <tbody>\n",
       "    <tr>\n",
       "      <th>0</th>\n",
       "      <td>AAPL</td>\n",
       "      <td>N/A</td>\n",
       "      <td>N/A</td>\n",
       "      <td>N/A</td>\n",
       "      <td>1970-01-01</td>\n",
       "    </tr>\n",
       "    <tr>\n",
       "      <th>1</th>\n",
       "      <td>AAPL</td>\n",
       "      <td>N/A</td>\n",
       "      <td>N/A</td>\n",
       "      <td>N/A</td>\n",
       "      <td>1970-01-01</td>\n",
       "    </tr>\n",
       "    <tr>\n",
       "      <th>2</th>\n",
       "      <td>AAPL</td>\n",
       "      <td>N/A</td>\n",
       "      <td>N/A</td>\n",
       "      <td>N/A</td>\n",
       "      <td>1970-01-01</td>\n",
       "    </tr>\n",
       "    <tr>\n",
       "      <th>3</th>\n",
       "      <td>AAPL</td>\n",
       "      <td>N/A</td>\n",
       "      <td>N/A</td>\n",
       "      <td>N/A</td>\n",
       "      <td>1970-01-01</td>\n",
       "    </tr>\n",
       "    <tr>\n",
       "      <th>4</th>\n",
       "      <td>AAPL</td>\n",
       "      <td>N/A</td>\n",
       "      <td>N/A</td>\n",
       "      <td>N/A</td>\n",
       "      <td>1970-01-01</td>\n",
       "    </tr>\n",
       "  </tbody>\n",
       "</table>\n",
       "</div>"
      ],
      "text/plain": [
       "  Ticker Title Publisher Link       Time\n",
       "0   AAPL   N/A       N/A  N/A 1970-01-01\n",
       "1   AAPL   N/A       N/A  N/A 1970-01-01\n",
       "2   AAPL   N/A       N/A  N/A 1970-01-01\n",
       "3   AAPL   N/A       N/A  N/A 1970-01-01\n",
       "4   AAPL   N/A       N/A  N/A 1970-01-01"
      ]
     },
     "execution_count": 5,
     "metadata": {},
     "output_type": "execute_result"
    }
   ],
   "source": [
    "import yfinance as yf  \n",
    "import pandas as pd  \n",
    "\n",
    "# List of stock tickers\n",
    "tickers = [\"AAPL\", \"TSLA\", \"GOOGL\", \"MSFT\"]  \n",
    "\n",
    "# Dictionary to store news data\n",
    "news_data = []\n",
    "\n",
    "# Fetch news for each stock\n",
    "for ticker in tickers:\n",
    "    stock = yf.Ticker(ticker)\n",
    "    news = stock.news  # Get latest news articles\n",
    "\n",
    "    for article in news:\n",
    "        news_data.append({\n",
    "            \"Ticker\": ticker,\n",
    "            \"Title\": article.get(\"title\", \"N/A\"),\n",
    "            \"Publisher\": article.get(\"publisher\", \"N/A\"),\n",
    "            \"Link\": article.get(\"link\", \"N/A\"),\n",
    "            \"Time\": pd.to_datetime(article.get(\"providerPublishTime\", 0), unit='s')\n",
    "        })\n",
    "\n",
    "# Convert to DataFrame\n",
    "news_df = pd.DataFrame(news_data)\n",
    "\n",
    "# Display first few rows\n",
    "news_df.head()\n"
   ]
  },
  {
   "cell_type": "code",
   "execution_count": 6,
   "id": "cd9ecb8d-c0b3-4142-981f-dc5b6acb75df",
   "metadata": {},
   "outputs": [
    {
     "data": {
      "text/html": [
       "<div>\n",
       "<style scoped>\n",
       "    .dataframe tbody tr th:only-of-type {\n",
       "        vertical-align: middle;\n",
       "    }\n",
       "\n",
       "    .dataframe tbody tr th {\n",
       "        vertical-align: top;\n",
       "    }\n",
       "\n",
       "    .dataframe thead th {\n",
       "        text-align: right;\n",
       "    }\n",
       "</style>\n",
       "<table border=\"1\" class=\"dataframe\">\n",
       "  <thead>\n",
       "    <tr style=\"text-align: right;\">\n",
       "      <th></th>\n",
       "      <th>Ticker</th>\n",
       "      <th>Title</th>\n",
       "      <th>Publisher</th>\n",
       "      <th>Link</th>\n",
       "      <th>Time</th>\n",
       "    </tr>\n",
       "  </thead>\n",
       "  <tbody>\n",
       "    <tr>\n",
       "      <th>35</th>\n",
       "      <td>MSFT</td>\n",
       "      <td>N/A</td>\n",
       "      <td>N/A</td>\n",
       "      <td>N/A</td>\n",
       "      <td>1970-01-01</td>\n",
       "    </tr>\n",
       "    <tr>\n",
       "      <th>36</th>\n",
       "      <td>MSFT</td>\n",
       "      <td>N/A</td>\n",
       "      <td>N/A</td>\n",
       "      <td>N/A</td>\n",
       "      <td>1970-01-01</td>\n",
       "    </tr>\n",
       "    <tr>\n",
       "      <th>37</th>\n",
       "      <td>MSFT</td>\n",
       "      <td>N/A</td>\n",
       "      <td>N/A</td>\n",
       "      <td>N/A</td>\n",
       "      <td>1970-01-01</td>\n",
       "    </tr>\n",
       "    <tr>\n",
       "      <th>38</th>\n",
       "      <td>MSFT</td>\n",
       "      <td>N/A</td>\n",
       "      <td>N/A</td>\n",
       "      <td>N/A</td>\n",
       "      <td>1970-01-01</td>\n",
       "    </tr>\n",
       "    <tr>\n",
       "      <th>39</th>\n",
       "      <td>MSFT</td>\n",
       "      <td>N/A</td>\n",
       "      <td>N/A</td>\n",
       "      <td>N/A</td>\n",
       "      <td>1970-01-01</td>\n",
       "    </tr>\n",
       "  </tbody>\n",
       "</table>\n",
       "</div>"
      ],
      "text/plain": [
       "   Ticker Title Publisher Link       Time\n",
       "35   MSFT   N/A       N/A  N/A 1970-01-01\n",
       "36   MSFT   N/A       N/A  N/A 1970-01-01\n",
       "37   MSFT   N/A       N/A  N/A 1970-01-01\n",
       "38   MSFT   N/A       N/A  N/A 1970-01-01\n",
       "39   MSFT   N/A       N/A  N/A 1970-01-01"
      ]
     },
     "execution_count": 6,
     "metadata": {},
     "output_type": "execute_result"
    }
   ],
   "source": [
    "news_df.tail()"
   ]
  },
  {
   "cell_type": "code",
   "execution_count": 7,
   "id": "a37e1177-add6-49bb-aba7-d8749a4121f1",
   "metadata": {},
   "outputs": [
    {
     "name": "stdout",
     "output_type": "stream",
     "text": [
      "Requirement already satisfied: textblob in c:\\users\\johan\\appdata\\local\\programs\\python\\python312\\lib\\site-packages (0.19.0)\n",
      "Requirement already satisfied: nltk>=3.9 in c:\\users\\johan\\appdata\\local\\programs\\python\\python312\\lib\\site-packages (from textblob) (3.9.1)\n",
      "Requirement already satisfied: click in c:\\users\\johan\\appdata\\local\\programs\\python\\python312\\lib\\site-packages (from nltk>=3.9->textblob) (8.1.8)\n",
      "Requirement already satisfied: joblib in c:\\users\\johan\\appdata\\local\\programs\\python\\python312\\lib\\site-packages (from nltk>=3.9->textblob) (1.4.2)\n",
      "Requirement already satisfied: regex>=2021.8.3 in c:\\users\\johan\\appdata\\local\\programs\\python\\python312\\lib\\site-packages (from nltk>=3.9->textblob) (2024.11.6)\n",
      "Requirement already satisfied: tqdm in c:\\users\\johan\\appdata\\local\\programs\\python\\python312\\lib\\site-packages (from nltk>=3.9->textblob) (4.67.1)\n",
      "Requirement already satisfied: colorama in c:\\users\\johan\\appdata\\local\\programs\\python\\python312\\lib\\site-packages (from click->nltk>=3.9->textblob) (0.4.6)\n",
      "Note: you may need to restart the kernel to use updated packages.\n"
     ]
    }
   ],
   "source": [
    "pip install textblob\n"
   ]
  },
  {
   "cell_type": "code",
   "execution_count": 8,
   "id": "a532b25c-e339-46ff-82f3-b6cd9b5373ba",
   "metadata": {},
   "outputs": [],
   "source": [
    "from textblob import TextBlob"
   ]
  },
  {
   "cell_type": "code",
   "execution_count": 9,
   "id": "882d6f3d-a7e5-4e38-b3c6-89e90223417c",
   "metadata": {},
   "outputs": [
    {
     "data": {
      "text/html": [
       "<div>\n",
       "<style scoped>\n",
       "    .dataframe tbody tr th:only-of-type {\n",
       "        vertical-align: middle;\n",
       "    }\n",
       "\n",
       "    .dataframe tbody tr th {\n",
       "        vertical-align: top;\n",
       "    }\n",
       "\n",
       "    .dataframe thead th {\n",
       "        text-align: right;\n",
       "    }\n",
       "</style>\n",
       "<table border=\"1\" class=\"dataframe\">\n",
       "  <thead>\n",
       "    <tr style=\"text-align: right;\">\n",
       "      <th></th>\n",
       "      <th>Ticker</th>\n",
       "      <th>Title</th>\n",
       "      <th>Publisher</th>\n",
       "      <th>Link</th>\n",
       "      <th>Time</th>\n",
       "      <th>Sentiment</th>\n",
       "    </tr>\n",
       "  </thead>\n",
       "  <tbody>\n",
       "    <tr>\n",
       "      <th>0</th>\n",
       "      <td>AAPL</td>\n",
       "      <td>N/A</td>\n",
       "      <td>N/A</td>\n",
       "      <td>N/A</td>\n",
       "      <td>1970-01-01</td>\n",
       "      <td>Neutral</td>\n",
       "    </tr>\n",
       "    <tr>\n",
       "      <th>1</th>\n",
       "      <td>AAPL</td>\n",
       "      <td>N/A</td>\n",
       "      <td>N/A</td>\n",
       "      <td>N/A</td>\n",
       "      <td>1970-01-01</td>\n",
       "      <td>Neutral</td>\n",
       "    </tr>\n",
       "    <tr>\n",
       "      <th>2</th>\n",
       "      <td>AAPL</td>\n",
       "      <td>N/A</td>\n",
       "      <td>N/A</td>\n",
       "      <td>N/A</td>\n",
       "      <td>1970-01-01</td>\n",
       "      <td>Neutral</td>\n",
       "    </tr>\n",
       "    <tr>\n",
       "      <th>3</th>\n",
       "      <td>AAPL</td>\n",
       "      <td>N/A</td>\n",
       "      <td>N/A</td>\n",
       "      <td>N/A</td>\n",
       "      <td>1970-01-01</td>\n",
       "      <td>Neutral</td>\n",
       "    </tr>\n",
       "    <tr>\n",
       "      <th>4</th>\n",
       "      <td>AAPL</td>\n",
       "      <td>N/A</td>\n",
       "      <td>N/A</td>\n",
       "      <td>N/A</td>\n",
       "      <td>1970-01-01</td>\n",
       "      <td>Neutral</td>\n",
       "    </tr>\n",
       "  </tbody>\n",
       "</table>\n",
       "</div>"
      ],
      "text/plain": [
       "  Ticker Title Publisher Link       Time Sentiment\n",
       "0   AAPL   N/A       N/A  N/A 1970-01-01   Neutral\n",
       "1   AAPL   N/A       N/A  N/A 1970-01-01   Neutral\n",
       "2   AAPL   N/A       N/A  N/A 1970-01-01   Neutral\n",
       "3   AAPL   N/A       N/A  N/A 1970-01-01   Neutral\n",
       "4   AAPL   N/A       N/A  N/A 1970-01-01   Neutral"
      ]
     },
     "execution_count": 9,
     "metadata": {},
     "output_type": "execute_result"
    }
   ],
   "source": [
    "# Function to get sentiment\n",
    "def get_sentiment(text):\n",
    "    analysis = TextBlob(text)\n",
    "    polarity = analysis.sentiment.polarity  # Ranges from -1 to 1\n",
    "    if polarity > 0:\n",
    "        return \"Positive\"\n",
    "    elif polarity < 0:\n",
    "        return \"Negative\"\n",
    "    else:\n",
    "        return \"Neutral\"\n",
    "\n",
    "# Apply sentiment analysis\n",
    "news_df[\"Sentiment\"] = news_df[\"Title\"].apply(get_sentiment)\n",
    "\n",
    "# Display results\n",
    "news_df.head()"
   ]
  },
  {
   "cell_type": "code",
   "execution_count": 10,
   "id": "30d695e0-9747-43ff-83d4-4a4576701397",
   "metadata": {},
   "outputs": [
    {
     "name": "stdout",
     "output_type": "stream",
     "text": [
      "News sentiment saved to 'stock_news_sentiment.csv'\n",
      "News sentiment saved to 'stock_news_sentiment.json'\n"
     ]
    }
   ],
   "source": [
    "# Save as CSV\n",
    "news_df.to_csv(\"stock_news_sentiment.csv\", index=False)\n",
    "print(\"News sentiment saved to 'stock_news_sentiment.csv'\")\n",
    "\n",
    "# Save as JSON\n",
    "news_df.to_json(\"stock_news_sentiment.json\", orient=\"records\", indent=4)\n",
    "print(\"News sentiment saved to 'stock_news_sentiment.json'\")"
   ]
  },
  {
   "cell_type": "code",
   "execution_count": 11,
   "id": "818e660a-2a1e-4efd-83f3-5bddcf289133",
   "metadata": {},
   "outputs": [
    {
     "name": "stdout",
     "output_type": "stream",
     "text": [
      "Requirement already satisfied: matplotlib in c:\\users\\johan\\anaconda3\\envs\\env\\lib\\site-packages (3.10.1)\n",
      "Requirement already satisfied: seaborn in c:\\users\\johan\\anaconda3\\envs\\env\\lib\\site-packages (0.13.2)\n",
      "Requirement already satisfied: contourpy>=1.0.1 in c:\\users\\johan\\anaconda3\\envs\\env\\lib\\site-packages (from matplotlib) (1.3.1)\n",
      "Requirement already satisfied: cycler>=0.10 in c:\\users\\johan\\anaconda3\\envs\\env\\lib\\site-packages (from matplotlib) (0.12.1)\n",
      "Requirement already satisfied: fonttools>=4.22.0 in c:\\users\\johan\\anaconda3\\envs\\env\\lib\\site-packages (from matplotlib) (4.56.0)\n",
      "Requirement already satisfied: kiwisolver>=1.3.1 in c:\\users\\johan\\anaconda3\\envs\\env\\lib\\site-packages (from matplotlib) (1.4.8)\n",
      "Requirement already satisfied: numpy>=1.23 in c:\\users\\johan\\anaconda3\\envs\\env\\lib\\site-packages (from matplotlib) (2.2.4)\n",
      "Requirement already satisfied: packaging>=20.0 in c:\\users\\johan\\anaconda3\\envs\\env\\lib\\site-packages (from matplotlib) (24.2)\n",
      "Requirement already satisfied: pillow>=8 in c:\\users\\johan\\anaconda3\\envs\\env\\lib\\site-packages (from matplotlib) (11.1.0)\n",
      "Requirement already satisfied: pyparsing>=2.3.1 in c:\\users\\johan\\anaconda3\\envs\\env\\lib\\site-packages (from matplotlib) (3.2.2)\n",
      "Requirement already satisfied: python-dateutil>=2.7 in c:\\users\\johan\\anaconda3\\envs\\env\\lib\\site-packages (from matplotlib) (2.9.0.post0)\n",
      "Requirement already satisfied: pandas>=1.2 in c:\\users\\johan\\anaconda3\\envs\\env\\lib\\site-packages (from seaborn) (2.2.3)\n",
      "Requirement already satisfied: pytz>=2020.1 in c:\\users\\johan\\anaconda3\\envs\\env\\lib\\site-packages (from pandas>=1.2->seaborn) (2025.1)\n",
      "Requirement already satisfied: tzdata>=2022.7 in c:\\users\\johan\\anaconda3\\envs\\env\\lib\\site-packages (from pandas>=1.2->seaborn) (2025.1)\n",
      "Requirement already satisfied: six>=1.5 in c:\\users\\johan\\anaconda3\\envs\\env\\lib\\site-packages (from python-dateutil>=2.7->matplotlib) (1.17.0)\n"
     ]
    }
   ],
   "source": [
    "!pip install matplotlib seaborn"
   ]
  },
  {
   "cell_type": "markdown",
   "id": "2acc7327-c18d-408c-a280-ddabe6eadef1",
   "metadata": {},
   "source": [
    "# sentiment analysis"
   ]
  },
  {
   "cell_type": "code",
   "execution_count": 12,
   "id": "3b43597b-cce6-4292-9b69-47b007630c99",
   "metadata": {},
   "outputs": [],
   "source": [
    "import matplotlib.pyplot as plt\n",
    "import seaborn as sns\n",
    "import pandas as pd"
   ]
  },
  {
   "cell_type": "code",
   "execution_count": 13,
   "id": "b0f9ccbe-e58a-465c-ab91-a3834970faac",
   "metadata": {},
   "outputs": [
    {
     "data": {
      "text/html": [
       "<div>\n",
       "<style scoped>\n",
       "    .dataframe tbody tr th:only-of-type {\n",
       "        vertical-align: middle;\n",
       "    }\n",
       "\n",
       "    .dataframe tbody tr th {\n",
       "        vertical-align: top;\n",
       "    }\n",
       "\n",
       "    .dataframe thead th {\n",
       "        text-align: right;\n",
       "    }\n",
       "</style>\n",
       "<table border=\"1\" class=\"dataframe\">\n",
       "  <thead>\n",
       "    <tr style=\"text-align: right;\">\n",
       "      <th>Sentiment</th>\n",
       "      <th>Neutral</th>\n",
       "    </tr>\n",
       "    <tr>\n",
       "      <th>Ticker</th>\n",
       "      <th></th>\n",
       "    </tr>\n",
       "  </thead>\n",
       "  <tbody>\n",
       "    <tr>\n",
       "      <th>AAPL</th>\n",
       "      <td>10</td>\n",
       "    </tr>\n",
       "    <tr>\n",
       "      <th>GOOGL</th>\n",
       "      <td>10</td>\n",
       "    </tr>\n",
       "    <tr>\n",
       "      <th>MSFT</th>\n",
       "      <td>10</td>\n",
       "    </tr>\n",
       "    <tr>\n",
       "      <th>TSLA</th>\n",
       "      <td>10</td>\n",
       "    </tr>\n",
       "  </tbody>\n",
       "</table>\n",
       "</div>"
      ],
      "text/plain": [
       "Sentiment  Neutral\n",
       "Ticker            \n",
       "AAPL            10\n",
       "GOOGL           10\n",
       "MSFT            10\n",
       "TSLA            10"
      ]
     },
     "execution_count": 13,
     "metadata": {},
     "output_type": "execute_result"
    }
   ],
   "source": [
    "# Count sentiment occurrences per stock\n",
    "sentiment_counts = news_df.groupby([\"Ticker\", \"Sentiment\"]).size().unstack()\n",
    "\n",
    "# Display the sentiment count table\n",
    "sentiment_counts"
   ]
  },
  {
   "cell_type": "code",
   "execution_count": 14,
   "id": "075a8424-6f7e-49c6-a30e-63dc1e295e54",
   "metadata": {},
   "outputs": [
    {
     "data": {
      "text/plain": [
       "<Figure size 1000x600 with 0 Axes>"
      ]
     },
     "metadata": {},
     "output_type": "display_data"
    },
    {
     "data": {
      "image/png": "[encoded data removed]",
      "text/plain": [
       "<Figure size 640x480 with 1 Axes>"
      ]
     },
     "metadata": {},
     "output_type": "display_data"
    }
   ],
   "source": [
    "# Set up the plot\n",
    "plt.figure(figsize=(10, 6))\n",
    "sentiment_counts.plot(kind=\"bar\", stacked=True, colormap=\"viridis\")\n",
    "\n",
    "# Labels and title\n",
    "plt.xlabel(\"Stock Ticker\")\n",
    "plt.ylabel(\"Number of News Articles\")\n",
    "plt.title(\"Sentiment Analysis of Stock News\")\n",
    "plt.legend(title=\"Sentiment\")\n",
    "plt.xticks(rotation=0)\n",
    "\n",
    "# Show plot\n",
    "plt.show()"
   ]
  },
  {
   "cell_type": "code",
   "execution_count": 15,
   "id": "0b6693c9-21f3-4134-93d1-7cd31ca12d44",
   "metadata": {},
   "outputs": [
    {
     "data": {
      "image/png": "[encoded data removed]",
      "text/plain": [
       "<Figure size 600x600 with 1 Axes>"
      ]
     },
     "metadata": {},
     "output_type": "display_data"
    }
   ],
   "source": [
    "# Count total sentiment distribution\n",
    "total_sentiment = news_df[\"Sentiment\"].value_counts()\n",
    "\n",
    "# Plot pie chart\n",
    "plt.figure(figsize=(6, 6))\n",
    "total_sentiment.plot.pie(autopct=\"%1.1f%%\", colors=[\"green\", \"red\", \"gray\"])\n",
    "plt.title(\"Overall Sentiment Distribution\")\n",
    "plt.ylabel(\"\")  # Hide y-label\n",
    "plt.show()\n"
   ]
  },
  {
   "cell_type": "markdown",
   "id": "7196beac-8720-4cc6-b9a9-bc0f1bb8dd8c",
   "metadata": {},
   "source": [
    "# generating trading signal"
   ]
  },
  {
   "cell_type": "code",
   "execution_count": 16,
   "id": "c2c6c2a1-379b-4c27-88c2-41210ecfb0c5",
   "metadata": {},
   "outputs": [
    {
     "data": {
      "text/html": [
       "<div>\n",
       "<style scoped>\n",
       "    .dataframe tbody tr th:only-of-type {\n",
       "        vertical-align: middle;\n",
       "    }\n",
       "\n",
       "    .dataframe tbody tr th {\n",
       "        vertical-align: top;\n",
       "    }\n",
       "\n",
       "    .dataframe thead th {\n",
       "        text-align: right;\n",
       "    }\n",
       "</style>\n",
       "<table border=\"1\" class=\"dataframe\">\n",
       "  <thead>\n",
       "    <tr style=\"text-align: right;\">\n",
       "      <th></th>\n",
       "      <th>Stock Ticker</th>\n",
       "      <th>Trading Signal</th>\n",
       "    </tr>\n",
       "  </thead>\n",
       "  <tbody>\n",
       "    <tr>\n",
       "      <th>0</th>\n",
       "      <td>AAPL</td>\n",
       "      <td>HOLD</td>\n",
       "    </tr>\n",
       "    <tr>\n",
       "      <th>1</th>\n",
       "      <td>TSLA</td>\n",
       "      <td>HOLD</td>\n",
       "    </tr>\n",
       "    <tr>\n",
       "      <th>2</th>\n",
       "      <td>GOOGL</td>\n",
       "      <td>HOLD</td>\n",
       "    </tr>\n",
       "    <tr>\n",
       "      <th>3</th>\n",
       "      <td>MSFT</td>\n",
       "      <td>HOLD</td>\n",
       "    </tr>\n",
       "  </tbody>\n",
       "</table>\n",
       "</div>"
      ],
      "text/plain": [
       "  Stock Ticker Trading Signal\n",
       "0         AAPL          HOLD \n",
       "1         TSLA          HOLD \n",
       "2        GOOGL          HOLD \n",
       "3         MSFT          HOLD "
      ]
     },
     "execution_count": 16,
     "metadata": {},
     "output_type": "execute_result"
    }
   ],
   "source": [
    "# Function to determine trading signal based on sentiment counts\n",
    "def generate_signal(ticker):\n",
    "    sentiments = news_df[news_df[\"Ticker\"] == ticker][\"Sentiment\"].value_counts()\n",
    "    \n",
    "    positive = sentiments.get(\"Positive\", 0)\n",
    "    negative = sentiments.get(\"Negative\", 0)\n",
    "    neutral = sentiments.get(\"Neutral\", 0)\n",
    "\n",
    "    if positive > negative:\n",
    "        return \"BUY \"\n",
    "    elif negative > positive:\n",
    "        return \"SELL \"\n",
    "    else:\n",
    "        return \"HOLD \"\n",
    "\n",
    "# Apply function to each stock\n",
    "signals = {ticker: generate_signal(ticker) for ticker in news_df[\"Ticker\"].unique()}\n",
    "\n",
    "# Convert to DataFrame\n",
    "signals_df = pd.DataFrame(signals.items(), columns=[\"Stock Ticker\", \"Trading Signal\"])\n",
    "\n",
    "# Display signals\n",
    "signals_df\n"
   ]
  },
  {
   "cell_type": "code",
   "execution_count": 17,
   "id": "2b28fecd-28fb-4867-84f3-74c660a46d2b",
   "metadata": {},
   "outputs": [
    {
     "name": "stdout",
     "output_type": "stream",
     "text": [
      "Trading signals saved to 'trading_signals.csv'\n",
      "Trading signals saved to 'trading_signals.json'\n"
     ]
    }
   ],
   "source": [
    "# Save trading signals to CSV\n",
    "signals_df.to_csv(\"trading_signals.csv\", index=False)\n",
    "print(\"Trading signals saved to 'trading_signals.csv'\")\n",
    "\n",
    "# Save trading signals to JSON\n",
    "signals_df.to_json(\"trading_signals.json\", orient=\"records\", indent=4)\n",
    "print(\"Trading signals saved to 'trading_signals.json'\")"
   ]
  },
  {
   "cell_type": "markdown",
   "id": "b3f2fffc-a73f-440f-a9ff-1305c969dfda",
   "metadata": {},
   "source": [
    "# backtesting signals"
   ]
  },
  {
   "cell_type": "code",
   "execution_count": 18,
   "id": "fbfe9462-b2cb-4cb3-9a44-df4a015ca24a",
   "metadata": {},
   "outputs": [
    {
     "name": "stdout",
     "output_type": "stream",
     "text": [
      "\n",
      "Ticker: AAPL\n",
      "                                  Open        High         Low       Close  \\\n",
      "Date                                                                        \n",
      "2025-02-25 00:00:00-05:00  248.000000  250.000000  244.910004  247.039993   \n",
      "2025-02-26 00:00:00-05:00  244.330002  244.979996  239.130005  240.360001   \n",
      "2025-02-27 00:00:00-05:00  239.410004  242.460007  237.059998  237.300003   \n",
      "2025-02-28 00:00:00-05:00  236.949997  242.089996  230.199997  241.839996   \n",
      "2025-03-03 00:00:00-05:00  241.789993  244.029999  236.110001  238.029999   \n",
      "\n",
      "                             Volume  Dividends  Stock Splits  \n",
      "Date                                                          \n",
      "2025-02-25 00:00:00-05:00  48013300        0.0           0.0  \n",
      "2025-02-26 00:00:00-05:00  44433600        0.0           0.0  \n",
      "2025-02-27 00:00:00-05:00  41153600        0.0           0.0  \n",
      "2025-02-28 00:00:00-05:00  56833400        0.0           0.0  \n",
      "2025-03-03 00:00:00-05:00  47184000        0.0           0.0  \n",
      "\n",
      "Ticker: TSLA\n",
      "                                  Open        High         Low       Close  \\\n",
      "Date                                                                        \n",
      "2025-02-25 00:00:00-05:00  327.019989  328.890015  297.250000  302.799988   \n",
      "2025-02-26 00:00:00-05:00  303.709991  309.000000  288.040009  290.799988   \n",
      "2025-02-27 00:00:00-05:00  291.160004  297.230011  280.880005  281.950012   \n",
      "2025-02-28 00:00:00-05:00  279.500000  293.880005  273.600006  292.980011   \n",
      "2025-03-03 00:00:00-05:00  300.339996  303.940002  277.299988  284.649994   \n",
      "\n",
      "                              Volume  Dividends  Stock Splits  \n",
      "Date                                                           \n",
      "2025-02-25 00:00:00-05:00  134228800        0.0           0.0  \n",
      "2025-02-26 00:00:00-05:00  100118300        0.0           0.0  \n",
      "2025-02-27 00:00:00-05:00  101748200        0.0           0.0  \n",
      "2025-02-28 00:00:00-05:00  115697000        0.0           0.0  \n",
      "2025-03-03 00:00:00-05:00  115551400        0.0           0.0  \n",
      "\n",
      "Ticker: GOOGL\n",
      "                                  Open        High         Low       Close  \\\n",
      "Date                                                                        \n",
      "2025-02-25 00:00:00-05:00  177.835182  178.534389  174.489045  175.218201   \n",
      "2025-02-26 00:00:00-05:00  174.868616  175.877448  171.382625  172.531296   \n",
      "2025-02-27 00:00:00-05:00  173.789858  174.359194  167.746814  168.306168   \n",
      "2025-02-28 00:00:00-05:00  168.485941  170.413729  166.578150  170.084106   \n",
      "2025-03-03 00:00:00-05:00  171.732209  173.170555  165.739112  166.817871   \n",
      "\n",
      "                             Volume  Dividends  Stock Splits  \n",
      "Date                                                          \n",
      "2025-02-25 00:00:00-05:00  41913400        0.0           0.0  \n",
      "2025-02-26 00:00:00-05:00  35431300        0.0           0.0  \n",
      "2025-02-27 00:00:00-05:00  39991000        0.0           0.0  \n",
      "2025-02-28 00:00:00-05:00  48130600        0.0           0.0  \n",
      "2025-03-03 00:00:00-05:00  40770500        0.0           0.0  \n",
      "\n",
      "Ticker: MSFT\n",
      "                                  Open        High         Low       Close  \\\n",
      "Date                                                                        \n",
      "2025-02-25 00:00:00-05:00  401.100006  401.920013  396.700012  397.899994   \n",
      "2025-02-26 00:00:00-05:00  398.010010  403.600006  394.250000  399.730011   \n",
      "2025-02-27 00:00:00-05:00  401.269989  405.739990  392.170013  392.529999   \n",
      "2025-02-28 00:00:00-05:00  392.660004  397.630005  386.570007  396.989990   \n",
      "2025-03-03 00:00:00-05:00  398.820007  398.820007  386.160004  388.489990   \n",
      "\n",
      "                             Volume  Dividends  Stock Splits  \n",
      "Date                                                          \n",
      "2025-02-25 00:00:00-05:00  29387400        0.0           0.0  \n",
      "2025-02-26 00:00:00-05:00  19619000        0.0           0.0  \n",
      "2025-02-27 00:00:00-05:00  21127400        0.0           0.0  \n",
      "2025-02-28 00:00:00-05:00  32845700        0.0           0.0  \n",
      "2025-03-03 00:00:00-05:00  23007700        0.0           0.0  \n"
     ]
    }
   ],
   "source": [
    "historical_data = {}\n",
    "\n",
    "for ticker in news_df[\"Ticker\"].unique():\n",
    "    stock = yf.Ticker(ticker)\n",
    "    hist = stock.history(period=\"1mo\")  # Fetch 1-month historical data\n",
    "    historical_data[ticker] = hist  # Store in dictionary\n",
    "    print(f\"\\nTicker: {ticker}\\n\", hist.head())  # Print first few rows"
   ]
  },
  {
   "cell_type": "code",
   "execution_count": 19,
   "id": "75a1516a-e15c-463a-9618-0c4ade353209",
   "metadata": {},
   "outputs": [
    {
     "name": "stdout",
     "output_type": "stream",
     "text": [
      "Available Columns: MultiIndex([( 'AAPL',         'Open'),\n",
      "            ( 'AAPL',         'High'),\n",
      "            ( 'AAPL',          'Low'),\n",
      "            ( 'AAPL',        'Close'),\n",
      "            ( 'AAPL',       'Volume'),\n",
      "            ( 'AAPL',    'Dividends'),\n",
      "            ( 'AAPL', 'Stock Splits'),\n",
      "            ( 'TSLA',         'Open'),\n",
      "            ( 'TSLA',         'High'),\n",
      "            ( 'TSLA',          'Low'),\n",
      "            ( 'TSLA',        'Close'),\n",
      "            ( 'TSLA',       'Volume'),\n",
      "            ( 'TSLA',    'Dividends'),\n",
      "            ( 'TSLA', 'Stock Splits'),\n",
      "            ('GOOGL',         'Open'),\n",
      "            ('GOOGL',         'High'),\n",
      "            ('GOOGL',          'Low'),\n",
      "            ('GOOGL',        'Close'),\n",
      "            ('GOOGL',       'Volume'),\n",
      "            ('GOOGL',    'Dividends'),\n",
      "            ('GOOGL', 'Stock Splits'),\n",
      "            ( 'MSFT',         'Open'),\n",
      "            ( 'MSFT',         'High'),\n",
      "            ( 'MSFT',          'Low'),\n",
      "            ( 'MSFT',        'Close'),\n",
      "            ( 'MSFT',       'Volume'),\n",
      "            ( 'MSFT',    'Dividends'),\n",
      "            ( 'MSFT', 'Stock Splits')],\n",
      "           )\n",
      "                                 AAPL        TSLA       GOOGL        MSFT\n",
      "Date                                                                     \n",
      "2025-02-25 00:00:00-05:00  247.039993  302.799988  175.218201  397.899994\n",
      "2025-02-26 00:00:00-05:00  240.360001  290.799988  172.531296  399.730011\n",
      "2025-02-27 00:00:00-05:00  237.300003  281.950012  168.306168  392.529999\n",
      "2025-02-28 00:00:00-05:00  241.839996  292.980011  170.084106  396.989990\n",
      "2025-03-03 00:00:00-05:00  238.029999  284.649994  166.817871  388.489990\n"
     ]
    }
   ],
   "source": [
    "# Fetch historical stock prices (last 1 month)\n",
    "historical_data = {}\n",
    "\n",
    "for ticker in news_df[\"Ticker\"].unique():\n",
    "    stock = yf.Ticker(ticker)\n",
    "    hist = stock.history(period=\"1mo\")  # Get last 1-month data\n",
    "\n",
    "    # Only store data if it's not empty\n",
    "    if not hist.empty:\n",
    "        historical_data[ticker] = hist\n",
    "\n",
    "\n",
    "if not historical_data:\n",
    "    print(\"No valid stock data found. Try different tickers.\")\n",
    "else:\n",
    "    price_df = pd.concat(historical_data, axis=1)\n",
    "\n",
    "    print(\"Available Columns:\", price_df.columns)\n",
    "\n",
    "    price_df = price_df.xs(\"Close\", level=1, axis=1)\n",
    "\n",
    "    print(price_df.head())\n"
   ]
  },
  {
   "cell_type": "code",
   "execution_count": 20,
   "id": "c2d72f3b-823e-4cff-ab04-cabc802a81b7",
   "metadata": {},
   "outputs": [
    {
     "data": {
      "text/html": [
       "<div>\n",
       "<style scoped>\n",
       "    .dataframe tbody tr th:only-of-type {\n",
       "        vertical-align: middle;\n",
       "    }\n",
       "\n",
       "    .dataframe tbody tr th {\n",
       "        vertical-align: top;\n",
       "    }\n",
       "\n",
       "    .dataframe thead th {\n",
       "        text-align: right;\n",
       "    }\n",
       "</style>\n",
       "<table border=\"1\" class=\"dataframe\">\n",
       "  <thead>\n",
       "    <tr style=\"text-align: right;\">\n",
       "      <th></th>\n",
       "      <th>Stock Ticker</th>\n",
       "      <th>Profit/Loss ($)</th>\n",
       "    </tr>\n",
       "  </thead>\n",
       "  <tbody>\n",
       "    <tr>\n",
       "      <th>0</th>\n",
       "      <td>AAPL</td>\n",
       "      <td>0</td>\n",
       "    </tr>\n",
       "    <tr>\n",
       "      <th>1</th>\n",
       "      <td>TSLA</td>\n",
       "      <td>0</td>\n",
       "    </tr>\n",
       "    <tr>\n",
       "      <th>2</th>\n",
       "      <td>GOOGL</td>\n",
       "      <td>0</td>\n",
       "    </tr>\n",
       "    <tr>\n",
       "      <th>3</th>\n",
       "      <td>MSFT</td>\n",
       "      <td>0</td>\n",
       "    </tr>\n",
       "  </tbody>\n",
       "</table>\n",
       "</div>"
      ],
      "text/plain": [
       "  Stock Ticker  Profit/Loss ($)\n",
       "0         AAPL                0\n",
       "1         TSLA                0\n",
       "2        GOOGL                0\n",
       "3         MSFT                0"
      ]
     },
     "execution_count": 20,
     "metadata": {},
     "output_type": "execute_result"
    }
   ],
   "source": [
    "backtest_results = {}\n",
    "\n",
    "# Loop through valid stocks only\n",
    "for ticker in price_df.columns:\n",
    "    signal = signals_df[signals_df[\"Stock Ticker\"] == ticker][\"Trading Signal\"].values[0]\n",
    "\n",
    "    # Use first & last available price\n",
    "    buy_price = price_df[ticker].dropna().iloc[0]  # First valid price\n",
    "    sell_price = price_df[ticker].dropna().iloc[-1]  # Last valid price\n",
    "\n",
    "    # Calculate profit/loss based on signal\n",
    "    if signal == \"BUY\":\n",
    "        profit_loss = (sell_price - buy_price) / buy_price * initial_capital\n",
    "    elif signal == \"SELL\":\n",
    "        profit_loss = (buy_price - sell_price) / buy_price * initial_capital\n",
    "    else:  # HOLD \n",
    "        profit_loss = 0\n",
    "\n",
    "    backtest_results[ticker] = profit_loss\n",
    "\n",
    "\n",
    "backtest_df = pd.DataFrame(backtest_results.items(), columns=[\"Stock Ticker\", \"Profit/Loss ($)\"])\n",
    "\n",
    "backtest_df\n"
   ]
  },
  {
   "cell_type": "code",
   "execution_count": 21,
   "id": "74cbc7fe-29e1-4ae7-8d23-23842ca6cb98",
   "metadata": {},
   "outputs": [
    {
     "name": "stderr",
     "output_type": "stream",
     "text": [
      "C:\\Users\\johan\\AppData\\Local\\Temp\\ipykernel_20116\\720362784.py:2: FutureWarning: \n",
      "\n",
      "Passing `palette` without assigning `hue` is deprecated and will be removed in v0.14.0. Assign the `x` variable to `hue` and set `legend=False` for the same effect.\n",
      "\n",
      "  sns.barplot(x=\"Stock Ticker\", y=\"Profit/Loss ($)\", data=backtest_df, palette=\"coolwarm\")\n"
     ]
    },
    {
     "data": {
      "image/png": "[encoded data removed]",
      "text/plain": [
       "<Figure size 800x500 with 1 Axes>"
      ]
     },
     "metadata": {},
     "output_type": "display_data"
    }
   ],
   "source": [
    "\n",
    "plt.figure(figsize=(8, 5))\n",
    "sns.barplot(x=\"Stock Ticker\", y=\"Profit/Loss ($)\", data=backtest_df, palette=\"coolwarm\")\n",
    "\n",
    "\n",
    "plt.xlabel(\"Stock Ticker\")\n",
    "plt.ylabel(\"Profit/Loss ($)\")\n",
    "plt.title(\"Backtest Results: Profit/Loss per Stock\")\n",
    "plt.grid(axis=\"y\", linestyle=\"--\", alpha=0.7)\n",
    "plt.show()\n"
   ]
  }
 ],
 "metadata": {
  "kernelspec": {
   "display_name": "Python 3 (ipykernel)",
   "language": "python",
   "name": "python3"
  },
  "language_info": {
   "codemirror_mode": {
    "name": "ipython",
    "version": 3
   },
   "file_extension": ".py",
   "mimetype": "text/x-python",
   "name": "python",
   "nbconvert_exporter": "python",
   "pygments_lexer": "ipython3",
   "version": "3.12.4"
  }
 },
 "nbformat": 4,
 "nbformat_minor": 5
}
